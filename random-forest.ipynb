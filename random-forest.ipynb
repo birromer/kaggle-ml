{
 "cells": [
  {
   "cell_type": "code",
   "execution_count": 3,
   "metadata": {},
   "outputs": [],
   "source": [
    "import pandas as pd\n",
    "#path for the data\n",
    "melbourneFilePath = 'data/melb_data.csv'\n",
    "#read the data and store in a dataframe\n",
    "melbourneData = pd.read_csv(melbourneFilePath)\n",
    "melbourneData = melbourneData.dropna(axis=0)\n",
    "\n",
    "y = melbourneData.Price\n",
    "melbourneFeatures = ['Rooms', 'Bathroom', 'Landsize', 'Lattitude', 'Longtitude']\n",
    "X = melbourneData[melbourneFeatures]\n",
    "\n",
    "#split the data\n",
    "from sklearn.model_selection import train_test_split\n",
    "trainX, valX, trainY, valY = train_test_split(X,y,random_state=0)"
   ]
  },
  {
   "cell_type": "code",
   "execution_count": 4,
   "metadata": {},
   "outputs": [
    {
     "name": "stdout",
     "output_type": "stream",
     "text": [
      "218416.94207015279\n"
     ]
    }
   ],
   "source": [
    "from sklearn.ensemble import RandomForestRegressor\n",
    "from sklearn.metrics import mean_absolute_error\n",
    "\n",
    "forestModel = RandomForestRegressor(random_state=1)\n",
    "forestModel.fit(trainX,trainY)\n",
    "melbPreds = forestModel.predict(valX)\n",
    "print(mean_absolute_error(valY, melbPreds))"
   ]
  },
  {
   "cell_type": "code",
   "execution_count": null,
   "metadata": {},
   "outputs": [],
   "source": []
  }
 ],
 "metadata": {
  "kernelspec": {
   "display_name": "Python 3",
   "language": "python",
   "name": "python3"
  },
  "language_info": {
   "codemirror_mode": {
    "name": "ipython",
    "version": 3
   },
   "file_extension": ".py",
   "mimetype": "text/x-python",
   "name": "python",
   "nbconvert_exporter": "python",
   "pygments_lexer": "ipython3",
   "version": "3.6.4"
  }
 },
 "nbformat": 4,
 "nbformat_minor": 2
}
